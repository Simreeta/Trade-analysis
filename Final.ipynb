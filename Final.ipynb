{
 "cells": [
  {
   "cell_type": "code",
   "execution_count": 1,
   "metadata": {},
   "outputs": [],
   "source": [
    "import pandas as pd\n",
    "import numpy as np\n",
    "import matplotlib.pyplot as plt\n",
    "import seaborn as sns\n",
    "%matplotlib inline\n",
    "from sklearn.feature_selection import VarianceThreshold\n",
    "from sklearn.model_selection import train_test_split"
   ]
  },
  {
   "cell_type": "code",
   "execution_count": 2,
   "metadata": {},
   "outputs": [
    {
     "data": {
      "text/plain": [
       "(50000, 19)"
      ]
     },
     "execution_count": 2,
     "metadata": {},
     "output_type": "execute_result"
    }
   ],
   "source": [
    "df=pd.read_csv('H2HBABBA3183.csv',nrows=50000)\n",
    "df.shape"
   ]
  },
  {
   "cell_type": "code",
   "execution_count": 3,
   "metadata": {},
   "outputs": [],
   "source": [
    "pd.set_option ('display.max_columns',300)"
   ]
  },
  {
   "cell_type": "code",
   "execution_count": 4,
   "metadata": {},
   "outputs": [
    {
     "data": {
      "text/html": [
       "<div>\n",
       "<style scoped>\n",
       "    .dataframe tbody tr th:only-of-type {\n",
       "        vertical-align: middle;\n",
       "    }\n",
       "\n",
       "    .dataframe tbody tr th {\n",
       "        vertical-align: top;\n",
       "    }\n",
       "\n",
       "    .dataframe thead th {\n",
       "        text-align: right;\n",
       "    }\n",
       "</style>\n",
       "<table border=\"1\" class=\"dataframe\">\n",
       "  <thead>\n",
       "    <tr style=\"text-align: right;\">\n",
       "      <th></th>\n",
       "      <th>business_code</th>\n",
       "      <th>cust_number</th>\n",
       "      <th>name_customer</th>\n",
       "      <th>clear_date</th>\n",
       "      <th>buisness_year</th>\n",
       "      <th>doc_id</th>\n",
       "      <th>posting_date</th>\n",
       "      <th>document_create_date</th>\n",
       "      <th>document_create_date.1</th>\n",
       "      <th>due_in_date</th>\n",
       "      <th>invoice_currency</th>\n",
       "      <th>document type</th>\n",
       "      <th>posting_id</th>\n",
       "      <th>area_business</th>\n",
       "      <th>total_open_amount</th>\n",
       "      <th>baseline_create_date</th>\n",
       "      <th>cust_payment_terms</th>\n",
       "      <th>invoice_id</th>\n",
       "      <th>isOpen</th>\n",
       "    </tr>\n",
       "  </thead>\n",
       "  <tbody>\n",
       "    <tr>\n",
       "      <td>0</td>\n",
       "      <td>U001</td>\n",
       "      <td>0200769623</td>\n",
       "      <td>WAL-MAR llc</td>\n",
       "      <td>2019-12-10 00:00:00</td>\n",
       "      <td>2019.0</td>\n",
       "      <td>1.930187e+09</td>\n",
       "      <td>2019-11-24</td>\n",
       "      <td>20191123</td>\n",
       "      <td>20191124</td>\n",
       "      <td>20191209.0</td>\n",
       "      <td>USD</td>\n",
       "      <td>RV</td>\n",
       "      <td>1.0</td>\n",
       "      <td>NaN</td>\n",
       "      <td>23039.94</td>\n",
       "      <td>20191124.0</td>\n",
       "      <td>NAH4</td>\n",
       "      <td>1.930187e+09</td>\n",
       "      <td>0</td>\n",
       "    </tr>\n",
       "    <tr>\n",
       "      <td>1</td>\n",
       "      <td>U001</td>\n",
       "      <td>0200519201</td>\n",
       "      <td>KROGE in</td>\n",
       "      <td>2019-06-10 00:00:00</td>\n",
       "      <td>2019.0</td>\n",
       "      <td>1.929369e+09</td>\n",
       "      <td>2019-05-25</td>\n",
       "      <td>20190523</td>\n",
       "      <td>20190525</td>\n",
       "      <td>20190609.0</td>\n",
       "      <td>USD</td>\n",
       "      <td>RV</td>\n",
       "      <td>1.0</td>\n",
       "      <td>NaN</td>\n",
       "      <td>17126.20</td>\n",
       "      <td>20190525.0</td>\n",
       "      <td>NAA8</td>\n",
       "      <td>1.929369e+09</td>\n",
       "      <td>0</td>\n",
       "    </tr>\n",
       "    <tr>\n",
       "      <td>2</td>\n",
       "      <td>U001</td>\n",
       "      <td>0200744019</td>\n",
       "      <td>TARG in</td>\n",
       "      <td>2019-11-21 00:00:00</td>\n",
       "      <td>2019.0</td>\n",
       "      <td>1.930097e+09</td>\n",
       "      <td>2019-11-05</td>\n",
       "      <td>20191104</td>\n",
       "      <td>20191105</td>\n",
       "      <td>20191120.0</td>\n",
       "      <td>USD</td>\n",
       "      <td>RV</td>\n",
       "      <td>1.0</td>\n",
       "      <td>NaN</td>\n",
       "      <td>2570.12</td>\n",
       "      <td>20191105.0</td>\n",
       "      <td>NAA8</td>\n",
       "      <td>1.930097e+09</td>\n",
       "      <td>0</td>\n",
       "    </tr>\n",
       "    <tr>\n",
       "      <td>3</td>\n",
       "      <td>U001</td>\n",
       "      <td>0200793568</td>\n",
       "      <td>SUPE trust</td>\n",
       "      <td>2019-02-20 00:00:00</td>\n",
       "      <td>2019.0</td>\n",
       "      <td>1.928730e+09</td>\n",
       "      <td>2019-02-05</td>\n",
       "      <td>20190204</td>\n",
       "      <td>20190205</td>\n",
       "      <td>20190220.0</td>\n",
       "      <td>USD</td>\n",
       "      <td>RV</td>\n",
       "      <td>1.0</td>\n",
       "      <td>NaN</td>\n",
       "      <td>59024.98</td>\n",
       "      <td>20190205.0</td>\n",
       "      <td>NAA8</td>\n",
       "      <td>1.928730e+09</td>\n",
       "      <td>0</td>\n",
       "    </tr>\n",
       "    <tr>\n",
       "      <td>4</td>\n",
       "      <td>U001</td>\n",
       "      <td>200769623</td>\n",
       "      <td>WAL-MAR corp</td>\n",
       "      <td>2019-04-09 00:00:00</td>\n",
       "      <td>2019.0</td>\n",
       "      <td>1.929045e+09</td>\n",
       "      <td>2019-03-28</td>\n",
       "      <td>20190328</td>\n",
       "      <td>20190328</td>\n",
       "      <td>20190412.0</td>\n",
       "      <td>USD</td>\n",
       "      <td>RV</td>\n",
       "      <td>1.0</td>\n",
       "      <td>NaN</td>\n",
       "      <td>471.56</td>\n",
       "      <td>20190328.0</td>\n",
       "      <td>NAH4</td>\n",
       "      <td>1.929045e+09</td>\n",
       "      <td>0</td>\n",
       "    </tr>\n",
       "  </tbody>\n",
       "</table>\n",
       "</div>"
      ],
      "text/plain": [
       "  business_code cust_number name_customer           clear_date  buisness_year  \\\n",
       "0          U001  0200769623   WAL-MAR llc  2019-12-10 00:00:00         2019.0   \n",
       "1          U001  0200519201      KROGE in  2019-06-10 00:00:00         2019.0   \n",
       "2          U001  0200744019       TARG in  2019-11-21 00:00:00         2019.0   \n",
       "3          U001  0200793568    SUPE trust  2019-02-20 00:00:00         2019.0   \n",
       "4          U001   200769623  WAL-MAR corp  2019-04-09 00:00:00         2019.0   \n",
       "\n",
       "         doc_id posting_date  document_create_date  document_create_date.1  \\\n",
       "0  1.930187e+09   2019-11-24              20191123                20191124   \n",
       "1  1.929369e+09   2019-05-25              20190523                20190525   \n",
       "2  1.930097e+09   2019-11-05              20191104                20191105   \n",
       "3  1.928730e+09   2019-02-05              20190204                20190205   \n",
       "4  1.929045e+09   2019-03-28              20190328                20190328   \n",
       "\n",
       "   due_in_date invoice_currency document type  posting_id  area_business  \\\n",
       "0   20191209.0              USD            RV         1.0            NaN   \n",
       "1   20190609.0              USD            RV         1.0            NaN   \n",
       "2   20191120.0              USD            RV         1.0            NaN   \n",
       "3   20190220.0              USD            RV         1.0            NaN   \n",
       "4   20190412.0              USD            RV         1.0            NaN   \n",
       "\n",
       "   total_open_amount  baseline_create_date cust_payment_terms    invoice_id  \\\n",
       "0           23039.94            20191124.0               NAH4  1.930187e+09   \n",
       "1           17126.20            20190525.0               NAA8  1.929369e+09   \n",
       "2            2570.12            20191105.0               NAA8  1.930097e+09   \n",
       "3           59024.98            20190205.0               NAA8  1.928730e+09   \n",
       "4             471.56            20190328.0               NAH4  1.929045e+09   \n",
       "\n",
       "   isOpen  \n",
       "0       0  \n",
       "1       0  \n",
       "2       0  \n",
       "3       0  \n",
       "4       0  "
      ]
     },
     "execution_count": 4,
     "metadata": {},
     "output_type": "execute_result"
    }
   ],
   "source": [
    "df.head()"
   ]
  },
  {
   "cell_type": "markdown",
   "metadata": {},
   "source": [
    "# Sorting the dataset based on posting_date"
   ]
  },
  {
   "cell_type": "code",
   "execution_count": 5,
   "metadata": {},
   "outputs": [],
   "source": [
    "df=df.sort_values(\"posting_date\") #sorting the entire dataframe based on ascending order of posting_date"
   ]
  },
  {
   "cell_type": "code",
   "execution_count": 6,
   "metadata": {},
   "outputs": [
    {
     "data": {
      "text/html": [
       "<div>\n",
       "<style scoped>\n",
       "    .dataframe tbody tr th:only-of-type {\n",
       "        vertical-align: middle;\n",
       "    }\n",
       "\n",
       "    .dataframe tbody tr th {\n",
       "        vertical-align: top;\n",
       "    }\n",
       "\n",
       "    .dataframe thead th {\n",
       "        text-align: right;\n",
       "    }\n",
       "</style>\n",
       "<table border=\"1\" class=\"dataframe\">\n",
       "  <thead>\n",
       "    <tr style=\"text-align: right;\">\n",
       "      <th></th>\n",
       "      <th>business_code</th>\n",
       "      <th>cust_number</th>\n",
       "      <th>name_customer</th>\n",
       "      <th>clear_date</th>\n",
       "      <th>buisness_year</th>\n",
       "      <th>doc_id</th>\n",
       "      <th>posting_date</th>\n",
       "      <th>document_create_date</th>\n",
       "      <th>document_create_date.1</th>\n",
       "      <th>due_in_date</th>\n",
       "      <th>invoice_currency</th>\n",
       "      <th>document type</th>\n",
       "      <th>posting_id</th>\n",
       "      <th>area_business</th>\n",
       "      <th>total_open_amount</th>\n",
       "      <th>baseline_create_date</th>\n",
       "      <th>cust_payment_terms</th>\n",
       "      <th>invoice_id</th>\n",
       "      <th>isOpen</th>\n",
       "    </tr>\n",
       "  </thead>\n",
       "  <tbody>\n",
       "    <tr>\n",
       "      <td>11567</td>\n",
       "      <td>U001</td>\n",
       "      <td>0200726979</td>\n",
       "      <td>BJ'S  systems</td>\n",
       "      <td>2019-01-15 00:00:00</td>\n",
       "      <td>2019.0</td>\n",
       "      <td>1.928534e+09</td>\n",
       "      <td>2018-12-30</td>\n",
       "      <td>20181229</td>\n",
       "      <td>20181230</td>\n",
       "      <td>20190114.0</td>\n",
       "      <td>USD</td>\n",
       "      <td>RV</td>\n",
       "      <td>1.0</td>\n",
       "      <td>NaN</td>\n",
       "      <td>173.86</td>\n",
       "      <td>20181230.0</td>\n",
       "      <td>NAA8</td>\n",
       "      <td>1.928534e+09</td>\n",
       "      <td>0</td>\n",
       "    </tr>\n",
       "    <tr>\n",
       "      <td>12702</td>\n",
       "      <td>U001</td>\n",
       "      <td>0200726979</td>\n",
       "      <td>BJ'S  us</td>\n",
       "      <td>2019-01-15 00:00:00</td>\n",
       "      <td>2019.0</td>\n",
       "      <td>1.928542e+09</td>\n",
       "      <td>2018-12-30</td>\n",
       "      <td>20181229</td>\n",
       "      <td>20181230</td>\n",
       "      <td>20190114.0</td>\n",
       "      <td>USD</td>\n",
       "      <td>RV</td>\n",
       "      <td>1.0</td>\n",
       "      <td>NaN</td>\n",
       "      <td>207.74</td>\n",
       "      <td>20181230.0</td>\n",
       "      <td>NAA8</td>\n",
       "      <td>1.928542e+09</td>\n",
       "      <td>0</td>\n",
       "    </tr>\n",
       "    <tr>\n",
       "      <td>1462</td>\n",
       "      <td>U001</td>\n",
       "      <td>0200769623</td>\n",
       "      <td>WAL-MAR</td>\n",
       "      <td>2019-01-15 00:00:00</td>\n",
       "      <td>2019.0</td>\n",
       "      <td>1.928531e+09</td>\n",
       "      <td>2018-12-30</td>\n",
       "      <td>20181229</td>\n",
       "      <td>20181230</td>\n",
       "      <td>20190114.0</td>\n",
       "      <td>USD</td>\n",
       "      <td>RV</td>\n",
       "      <td>1.0</td>\n",
       "      <td>NaN</td>\n",
       "      <td>73065.70</td>\n",
       "      <td>20181230.0</td>\n",
       "      <td>NAH4</td>\n",
       "      <td>1.928531e+09</td>\n",
       "      <td>0</td>\n",
       "    </tr>\n",
       "    <tr>\n",
       "      <td>1500</td>\n",
       "      <td>U001</td>\n",
       "      <td>0200769623</td>\n",
       "      <td>WAL-MAR corporation</td>\n",
       "      <td>2019-01-15 00:00:00</td>\n",
       "      <td>2019.0</td>\n",
       "      <td>1.928541e+09</td>\n",
       "      <td>2018-12-30</td>\n",
       "      <td>20181229</td>\n",
       "      <td>20181230</td>\n",
       "      <td>20190114.0</td>\n",
       "      <td>USD</td>\n",
       "      <td>RV</td>\n",
       "      <td>1.0</td>\n",
       "      <td>NaN</td>\n",
       "      <td>5008.13</td>\n",
       "      <td>20181230.0</td>\n",
       "      <td>NAH4</td>\n",
       "      <td>1.928541e+09</td>\n",
       "      <td>0</td>\n",
       "    </tr>\n",
       "    <tr>\n",
       "      <td>17507</td>\n",
       "      <td>U001</td>\n",
       "      <td>0200743123</td>\n",
       "      <td>KROGER foundation</td>\n",
       "      <td>2019-01-14 00:00:00</td>\n",
       "      <td>2019.0</td>\n",
       "      <td>1.928540e+09</td>\n",
       "      <td>2018-12-30</td>\n",
       "      <td>20181229</td>\n",
       "      <td>20181230</td>\n",
       "      <td>20190114.0</td>\n",
       "      <td>USD</td>\n",
       "      <td>RV</td>\n",
       "      <td>1.0</td>\n",
       "      <td>NaN</td>\n",
       "      <td>50228.95</td>\n",
       "      <td>20181230.0</td>\n",
       "      <td>NAA8</td>\n",
       "      <td>1.928540e+09</td>\n",
       "      <td>0</td>\n",
       "    </tr>\n",
       "  </tbody>\n",
       "</table>\n",
       "</div>"
      ],
      "text/plain": [
       "      business_code cust_number        name_customer           clear_date  \\\n",
       "11567          U001  0200726979        BJ'S  systems  2019-01-15 00:00:00   \n",
       "12702          U001  0200726979             BJ'S  us  2019-01-15 00:00:00   \n",
       "1462           U001  0200769623             WAL-MAR   2019-01-15 00:00:00   \n",
       "1500           U001  0200769623  WAL-MAR corporation  2019-01-15 00:00:00   \n",
       "17507          U001  0200743123    KROGER foundation  2019-01-14 00:00:00   \n",
       "\n",
       "       buisness_year        doc_id posting_date  document_create_date  \\\n",
       "11567         2019.0  1.928534e+09   2018-12-30              20181229   \n",
       "12702         2019.0  1.928542e+09   2018-12-30              20181229   \n",
       "1462          2019.0  1.928531e+09   2018-12-30              20181229   \n",
       "1500          2019.0  1.928541e+09   2018-12-30              20181229   \n",
       "17507         2019.0  1.928540e+09   2018-12-30              20181229   \n",
       "\n",
       "       document_create_date.1  due_in_date invoice_currency document type  \\\n",
       "11567                20181230   20190114.0              USD            RV   \n",
       "12702                20181230   20190114.0              USD            RV   \n",
       "1462                 20181230   20190114.0              USD            RV   \n",
       "1500                 20181230   20190114.0              USD            RV   \n",
       "17507                20181230   20190114.0              USD            RV   \n",
       "\n",
       "       posting_id  area_business  total_open_amount  baseline_create_date  \\\n",
       "11567         1.0            NaN             173.86            20181230.0   \n",
       "12702         1.0            NaN             207.74            20181230.0   \n",
       "1462          1.0            NaN           73065.70            20181230.0   \n",
       "1500          1.0            NaN            5008.13            20181230.0   \n",
       "17507         1.0            NaN           50228.95            20181230.0   \n",
       "\n",
       "      cust_payment_terms    invoice_id  isOpen  \n",
       "11567               NAA8  1.928534e+09       0  \n",
       "12702               NAA8  1.928542e+09       0  \n",
       "1462                NAH4  1.928531e+09       0  \n",
       "1500                NAH4  1.928541e+09       0  \n",
       "17507               NAA8  1.928540e+09       0  "
      ]
     },
     "execution_count": 6,
     "metadata": {},
     "output_type": "execute_result"
    }
   ],
   "source": [
    "df.head()"
   ]
  },
  {
   "cell_type": "markdown",
   "metadata": {},
   "source": [
    "# Check columns with null values"
   ]
  },
  {
   "cell_type": "markdown",
   "metadata": {},
   "source": [
    "# Null-Imputation"
   ]
  },
  {
   "cell_type": "code",
   "execution_count": 7,
   "metadata": {},
   "outputs": [
    {
     "data": {
      "text/plain": [
       "business_code                 0\n",
       "cust_number                   0\n",
       "name_customer                 0\n",
       "clear_date                10000\n",
       "buisness_year                 0\n",
       "doc_id                        0\n",
       "posting_date                  0\n",
       "document_create_date          0\n",
       "document_create_date.1        0\n",
       "due_in_date                   0\n",
       "invoice_currency              0\n",
       "document type                 0\n",
       "posting_id                    0\n",
       "area_business             50000\n",
       "total_open_amount             0\n",
       "baseline_create_date          0\n",
       "cust_payment_terms            0\n",
       "invoice_id                    3\n",
       "isOpen                        0\n",
       "dtype: int64"
      ]
     },
     "execution_count": 7,
     "metadata": {},
     "output_type": "execute_result"
    }
   ],
   "source": [
    "df.isna().sum()"
   ]
  },
  {
   "cell_type": "markdown",
   "metadata": {},
   "source": [
    "The null values of invoice_id can be filled with mode"
   ]
  },
  {
   "cell_type": "code",
   "execution_count": 8,
   "metadata": {},
   "outputs": [],
   "source": [
    "df['invoice_id'].fillna(df['invoice_id'].mode().median(),inplace=True) \n",
    "#by .mode().median() the median value of all the modal values will be used"
   ]
  },
  {
   "cell_type": "markdown",
   "metadata": {},
   "source": [
    "The null values of clear_date are to be predicted, so they can be kept for now"
   ]
  },
  {
   "cell_type": "code",
   "execution_count": 9,
   "metadata": {},
   "outputs": [
    {
     "data": {
      "text/plain": [
       "business_code                 0\n",
       "cust_number                   0\n",
       "name_customer                 0\n",
       "clear_date                10000\n",
       "buisness_year                 0\n",
       "doc_id                        0\n",
       "posting_date                  0\n",
       "document_create_date          0\n",
       "document_create_date.1        0\n",
       "due_in_date                   0\n",
       "invoice_currency              0\n",
       "document type                 0\n",
       "posting_id                    0\n",
       "area_business             50000\n",
       "total_open_amount             0\n",
       "baseline_create_date          0\n",
       "cust_payment_terms            0\n",
       "invoice_id                    0\n",
       "isOpen                        0\n",
       "dtype: int64"
      ]
     },
     "execution_count": 9,
     "metadata": {},
     "output_type": "execute_result"
    }
   ],
   "source": [
    "df.isna().sum()"
   ]
  },
  {
   "cell_type": "markdown",
   "metadata": {},
   "source": [
    "Now all null values are removed"
   ]
  },
  {
   "cell_type": "markdown",
   "metadata": {},
   "source": [
    "# Changing the formats of dates"
   ]
  },
  {
   "cell_type": "code",
   "execution_count": 10,
   "metadata": {},
   "outputs": [],
   "source": [
    "df['document_create_date.1'] = pd.to_datetime(df['document_create_date.1'], format='%Y%m%d')\n",
    "df['document_create_date'] = pd.to_datetime(df['document_create_date'], format='%Y%m%d')\n",
    "df['due_in_date'] = pd.to_datetime(df['due_in_date'], format='%Y%m%d')\n",
    "df['baseline_create_date'] = pd.to_datetime(df['baseline_create_date'], format='%Y%m%d')\n",
    "df['buisness_year'] =pd.to_datetime(df['buisness_year'],format='%Y')\n",
    "df['clear_date'] = pd.to_datetime(df['clear_date'])\n",
    "df['posting_date'] = pd.to_datetime(df['posting_date'])"
   ]
  },
  {
   "cell_type": "code",
   "execution_count": 11,
   "metadata": {},
   "outputs": [
    {
     "data": {
      "text/html": [
       "<div>\n",
       "<style scoped>\n",
       "    .dataframe tbody tr th:only-of-type {\n",
       "        vertical-align: middle;\n",
       "    }\n",
       "\n",
       "    .dataframe tbody tr th {\n",
       "        vertical-align: top;\n",
       "    }\n",
       "\n",
       "    .dataframe thead th {\n",
       "        text-align: right;\n",
       "    }\n",
       "</style>\n",
       "<table border=\"1\" class=\"dataframe\">\n",
       "  <thead>\n",
       "    <tr style=\"text-align: right;\">\n",
       "      <th></th>\n",
       "      <th>business_code</th>\n",
       "      <th>cust_number</th>\n",
       "      <th>name_customer</th>\n",
       "      <th>clear_date</th>\n",
       "      <th>buisness_year</th>\n",
       "      <th>doc_id</th>\n",
       "      <th>posting_date</th>\n",
       "      <th>document_create_date</th>\n",
       "      <th>document_create_date.1</th>\n",
       "      <th>due_in_date</th>\n",
       "      <th>invoice_currency</th>\n",
       "      <th>document type</th>\n",
       "      <th>posting_id</th>\n",
       "      <th>area_business</th>\n",
       "      <th>total_open_amount</th>\n",
       "      <th>baseline_create_date</th>\n",
       "      <th>cust_payment_terms</th>\n",
       "      <th>invoice_id</th>\n",
       "      <th>isOpen</th>\n",
       "    </tr>\n",
       "  </thead>\n",
       "  <tbody>\n",
       "    <tr>\n",
       "      <td>11567</td>\n",
       "      <td>U001</td>\n",
       "      <td>0200726979</td>\n",
       "      <td>BJ'S  systems</td>\n",
       "      <td>2019-01-15</td>\n",
       "      <td>2019-01-01</td>\n",
       "      <td>1.928534e+09</td>\n",
       "      <td>2018-12-30</td>\n",
       "      <td>2018-12-29</td>\n",
       "      <td>2018-12-30</td>\n",
       "      <td>2019-01-14</td>\n",
       "      <td>USD</td>\n",
       "      <td>RV</td>\n",
       "      <td>1.0</td>\n",
       "      <td>NaN</td>\n",
       "      <td>173.86</td>\n",
       "      <td>2018-12-30</td>\n",
       "      <td>NAA8</td>\n",
       "      <td>1.928534e+09</td>\n",
       "      <td>0</td>\n",
       "    </tr>\n",
       "    <tr>\n",
       "      <td>12702</td>\n",
       "      <td>U001</td>\n",
       "      <td>0200726979</td>\n",
       "      <td>BJ'S  us</td>\n",
       "      <td>2019-01-15</td>\n",
       "      <td>2019-01-01</td>\n",
       "      <td>1.928542e+09</td>\n",
       "      <td>2018-12-30</td>\n",
       "      <td>2018-12-29</td>\n",
       "      <td>2018-12-30</td>\n",
       "      <td>2019-01-14</td>\n",
       "      <td>USD</td>\n",
       "      <td>RV</td>\n",
       "      <td>1.0</td>\n",
       "      <td>NaN</td>\n",
       "      <td>207.74</td>\n",
       "      <td>2018-12-30</td>\n",
       "      <td>NAA8</td>\n",
       "      <td>1.928542e+09</td>\n",
       "      <td>0</td>\n",
       "    </tr>\n",
       "    <tr>\n",
       "      <td>1462</td>\n",
       "      <td>U001</td>\n",
       "      <td>0200769623</td>\n",
       "      <td>WAL-MAR</td>\n",
       "      <td>2019-01-15</td>\n",
       "      <td>2019-01-01</td>\n",
       "      <td>1.928531e+09</td>\n",
       "      <td>2018-12-30</td>\n",
       "      <td>2018-12-29</td>\n",
       "      <td>2018-12-30</td>\n",
       "      <td>2019-01-14</td>\n",
       "      <td>USD</td>\n",
       "      <td>RV</td>\n",
       "      <td>1.0</td>\n",
       "      <td>NaN</td>\n",
       "      <td>73065.70</td>\n",
       "      <td>2018-12-30</td>\n",
       "      <td>NAH4</td>\n",
       "      <td>1.928531e+09</td>\n",
       "      <td>0</td>\n",
       "    </tr>\n",
       "    <tr>\n",
       "      <td>1500</td>\n",
       "      <td>U001</td>\n",
       "      <td>0200769623</td>\n",
       "      <td>WAL-MAR corporation</td>\n",
       "      <td>2019-01-15</td>\n",
       "      <td>2019-01-01</td>\n",
       "      <td>1.928541e+09</td>\n",
       "      <td>2018-12-30</td>\n",
       "      <td>2018-12-29</td>\n",
       "      <td>2018-12-30</td>\n",
       "      <td>2019-01-14</td>\n",
       "      <td>USD</td>\n",
       "      <td>RV</td>\n",
       "      <td>1.0</td>\n",
       "      <td>NaN</td>\n",
       "      <td>5008.13</td>\n",
       "      <td>2018-12-30</td>\n",
       "      <td>NAH4</td>\n",
       "      <td>1.928541e+09</td>\n",
       "      <td>0</td>\n",
       "    </tr>\n",
       "    <tr>\n",
       "      <td>17507</td>\n",
       "      <td>U001</td>\n",
       "      <td>0200743123</td>\n",
       "      <td>KROGER foundation</td>\n",
       "      <td>2019-01-14</td>\n",
       "      <td>2019-01-01</td>\n",
       "      <td>1.928540e+09</td>\n",
       "      <td>2018-12-30</td>\n",
       "      <td>2018-12-29</td>\n",
       "      <td>2018-12-30</td>\n",
       "      <td>2019-01-14</td>\n",
       "      <td>USD</td>\n",
       "      <td>RV</td>\n",
       "      <td>1.0</td>\n",
       "      <td>NaN</td>\n",
       "      <td>50228.95</td>\n",
       "      <td>2018-12-30</td>\n",
       "      <td>NAA8</td>\n",
       "      <td>1.928540e+09</td>\n",
       "      <td>0</td>\n",
       "    </tr>\n",
       "  </tbody>\n",
       "</table>\n",
       "</div>"
      ],
      "text/plain": [
       "      business_code cust_number        name_customer clear_date buisness_year  \\\n",
       "11567          U001  0200726979        BJ'S  systems 2019-01-15    2019-01-01   \n",
       "12702          U001  0200726979             BJ'S  us 2019-01-15    2019-01-01   \n",
       "1462           U001  0200769623             WAL-MAR  2019-01-15    2019-01-01   \n",
       "1500           U001  0200769623  WAL-MAR corporation 2019-01-15    2019-01-01   \n",
       "17507          U001  0200743123    KROGER foundation 2019-01-14    2019-01-01   \n",
       "\n",
       "             doc_id posting_date document_create_date document_create_date.1  \\\n",
       "11567  1.928534e+09   2018-12-30           2018-12-29             2018-12-30   \n",
       "12702  1.928542e+09   2018-12-30           2018-12-29             2018-12-30   \n",
       "1462   1.928531e+09   2018-12-30           2018-12-29             2018-12-30   \n",
       "1500   1.928541e+09   2018-12-30           2018-12-29             2018-12-30   \n",
       "17507  1.928540e+09   2018-12-30           2018-12-29             2018-12-30   \n",
       "\n",
       "      due_in_date invoice_currency document type  posting_id  area_business  \\\n",
       "11567  2019-01-14              USD            RV         1.0            NaN   \n",
       "12702  2019-01-14              USD            RV         1.0            NaN   \n",
       "1462   2019-01-14              USD            RV         1.0            NaN   \n",
       "1500   2019-01-14              USD            RV         1.0            NaN   \n",
       "17507  2019-01-14              USD            RV         1.0            NaN   \n",
       "\n",
       "       total_open_amount baseline_create_date cust_payment_terms  \\\n",
       "11567             173.86           2018-12-30               NAA8   \n",
       "12702             207.74           2018-12-30               NAA8   \n",
       "1462            73065.70           2018-12-30               NAH4   \n",
       "1500             5008.13           2018-12-30               NAH4   \n",
       "17507           50228.95           2018-12-30               NAA8   \n",
       "\n",
       "         invoice_id  isOpen  \n",
       "11567  1.928534e+09       0  \n",
       "12702  1.928542e+09       0  \n",
       "1462   1.928531e+09       0  \n",
       "1500   1.928541e+09       0  \n",
       "17507  1.928540e+09       0  "
      ]
     },
     "execution_count": 11,
     "metadata": {},
     "output_type": "execute_result"
    }
   ],
   "source": [
    "df.head()"
   ]
  },
  {
   "cell_type": "code",
   "execution_count": 12,
   "metadata": {},
   "outputs": [
    {
     "name": "stdout",
     "output_type": "stream",
     "text": [
      "<class 'pandas.core.frame.DataFrame'>\n",
      "Int64Index: 50000 entries, 11567 to 1509\n",
      "Data columns (total 19 columns):\n",
      "business_code             50000 non-null object\n",
      "cust_number               50000 non-null object\n",
      "name_customer             50000 non-null object\n",
      "clear_date                40000 non-null datetime64[ns]\n",
      "buisness_year             50000 non-null datetime64[ns]\n",
      "doc_id                    50000 non-null float64\n",
      "posting_date              50000 non-null datetime64[ns]\n",
      "document_create_date      50000 non-null datetime64[ns]\n",
      "document_create_date.1    50000 non-null datetime64[ns]\n",
      "due_in_date               50000 non-null datetime64[ns]\n",
      "invoice_currency          50000 non-null object\n",
      "document type             50000 non-null object\n",
      "posting_id                50000 non-null float64\n",
      "area_business             0 non-null float64\n",
      "total_open_amount         50000 non-null float64\n",
      "baseline_create_date      50000 non-null datetime64[ns]\n",
      "cust_payment_terms        50000 non-null object\n",
      "invoice_id                50000 non-null float64\n",
      "isOpen                    50000 non-null int64\n",
      "dtypes: datetime64[ns](7), float64(5), int64(1), object(6)\n",
      "memory usage: 7.6+ MB\n"
     ]
    }
   ],
   "source": [
    "df.info()"
   ]
  },
  {
   "cell_type": "markdown",
   "metadata": {},
   "source": [
    "# Changing the currency type"
   ]
  },
  {
   "cell_type": "code",
   "execution_count": 13,
   "metadata": {},
   "outputs": [
    {
     "data": {
      "text/plain": [
       "array(['USD', 'CAD'], dtype=object)"
      ]
     },
     "execution_count": 13,
     "metadata": {},
     "output_type": "execute_result"
    }
   ],
   "source": [
    "currency_uniqueValues = df['invoice_currency'].unique()\n",
    "currency_uniqueValues"
   ]
  },
  {
   "cell_type": "markdown",
   "metadata": {},
   "source": [
    "Therefore, there are 2 types of currencies in the dataframe: USD & CAD"
   ]
  },
  {
   "cell_type": "code",
   "execution_count": 14,
   "metadata": {},
   "outputs": [],
   "source": [
    "#1CAD=0.81USD\n",
    "#function to convert CAD to USD\n",
    "\n",
    "for i in df['invoice_currency']:\n",
    "    if (i=='CAD'):\n",
    "        df['total_open_amount']=df['total_open_amount']*0.81\n",
    "        df['invoice_currency']='USD'"
   ]
  },
  {
   "cell_type": "code",
   "execution_count": 15,
   "metadata": {},
   "outputs": [
    {
     "data": {
      "text/plain": [
       "array(['USD'], dtype=object)"
      ]
     },
     "execution_count": 15,
     "metadata": {},
     "output_type": "execute_result"
    }
   ],
   "source": [
    "currency_uniqueValues_new = df['invoice_currency'].unique()\n",
    "currency_uniqueValues_new"
   ]
  },
  {
   "cell_type": "markdown",
   "metadata": {},
   "source": [
    "Now we have only one type of currency: USD"
   ]
  },
  {
   "cell_type": "markdown",
   "metadata": {},
   "source": [
    "Now, since we have constant value for the column 'invoice_currency', we can drop it."
   ]
  },
  {
   "cell_type": "code",
   "execution_count": 16,
   "metadata": {},
   "outputs": [
    {
     "name": "stdout",
     "output_type": "stream",
     "text": [
      "Shape before dropping:  (50000, 19)\n",
      "Shape after dropping:  (50000, 18)\n"
     ]
    }
   ],
   "source": [
    "print('Shape before dropping: ',df.shape)\n",
    "df.drop('invoice_currency',axis=1,inplace=True)\n",
    "print('Shape after dropping: ',df.shape)"
   ]
  },
  {
   "cell_type": "code",
   "execution_count": 17,
   "metadata": {},
   "outputs": [
    {
     "name": "stdout",
     "output_type": "stream",
     "text": [
      "<class 'pandas.core.frame.DataFrame'>\n",
      "Int64Index: 50000 entries, 11567 to 1509\n",
      "Data columns (total 18 columns):\n",
      "business_code             50000 non-null object\n",
      "cust_number               50000 non-null object\n",
      "name_customer             50000 non-null object\n",
      "clear_date                40000 non-null datetime64[ns]\n",
      "buisness_year             50000 non-null datetime64[ns]\n",
      "doc_id                    50000 non-null float64\n",
      "posting_date              50000 non-null datetime64[ns]\n",
      "document_create_date      50000 non-null datetime64[ns]\n",
      "document_create_date.1    50000 non-null datetime64[ns]\n",
      "due_in_date               50000 non-null datetime64[ns]\n",
      "document type             50000 non-null object\n",
      "posting_id                50000 non-null float64\n",
      "area_business             0 non-null float64\n",
      "total_open_amount         50000 non-null float64\n",
      "baseline_create_date      50000 non-null datetime64[ns]\n",
      "cust_payment_terms        50000 non-null object\n",
      "invoice_id                50000 non-null float64\n",
      "isOpen                    50000 non-null int64\n",
      "dtypes: datetime64[ns](7), float64(5), int64(1), object(5)\n",
      "memory usage: 7.2+ MB\n"
     ]
    }
   ],
   "source": [
    "df.info()"
   ]
  },
  {
   "cell_type": "code",
   "execution_count": 18,
   "metadata": {},
   "outputs": [
    {
     "data": {
      "text/plain": [
       "business_code                 6\n",
       "cust_number                1398\n",
       "name_customer              4126\n",
       "clear_date                  389\n",
       "buisness_year                 2\n",
       "doc_id                    48798\n",
       "posting_date                502\n",
       "document_create_date        508\n",
       "document_create_date.1      502\n",
       "due_in_date                 542\n",
       "document type                 2\n",
       "posting_id                    1\n",
       "area_business                 0\n",
       "total_open_amount         44286\n",
       "baseline_create_date        503\n",
       "cust_payment_terms           75\n",
       "invoice_id                48796\n",
       "isOpen                        2\n",
       "dtype: int64"
      ]
     },
     "execution_count": 18,
     "metadata": {},
     "output_type": "execute_result"
    }
   ],
   "source": [
    "df.nunique()"
   ]
  },
  {
   "cell_type": "markdown",
   "metadata": {},
   "source": [
    "From here we can find out that:\n",
    "    posting_id is constant,\n",
    "    \n",
    "    business_code, business_year and document type are categorical,\n",
    "    \n",
    "    isOpen will be used to split the data so we can ignore it for now"
   ]
  },
  {
   "cell_type": "code",
   "execution_count": 19,
   "metadata": {},
   "outputs": [
    {
     "data": {
      "text/plain": [
       "doc_id               8.005909e+16\n",
       "posting_id           0.000000e+00\n",
       "area_business                 NaN\n",
       "total_open_amount    1.023811e+09\n",
       "invoice_id           7.669501e+16\n",
       "isOpen               1.600032e-01\n",
       "dtype: float64"
      ]
     },
     "execution_count": 19,
     "metadata": {},
     "output_type": "execute_result"
    }
   ],
   "source": [
    "df.var(axis=None, skipna=None, level=None, numeric_only=None)#variance"
   ]
  },
  {
   "cell_type": "code",
   "execution_count": 20,
   "metadata": {},
   "outputs": [
    {
     "data": {
      "text/plain": [
       "doc_id               2.829471e+08\n",
       "posting_id           0.000000e+00\n",
       "area_business                 NaN\n",
       "total_open_amount    3.199704e+04\n",
       "invoice_id           2.769386e+08\n",
       "isOpen               4.000040e-01\n",
       "dtype: float64"
      ]
     },
     "execution_count": 20,
     "metadata": {},
     "output_type": "execute_result"
    }
   ],
   "source": [
    "df.std()#standard deviation"
   ]
  },
  {
   "cell_type": "markdown",
   "metadata": {},
   "source": [
    "Also, posting_id has variance and standard deviation as 0\n",
    "\n",
    "So, It is constant"
   ]
  },
  {
   "cell_type": "code",
   "execution_count": 21,
   "metadata": {},
   "outputs": [
    {
     "name": "stdout",
     "output_type": "stream",
     "text": [
      "Shape before dropping:  (50000, 18)\n",
      "Shape after dropping:  (50000, 17)\n"
     ]
    }
   ],
   "source": [
    "print('Shape before dropping: ',df.shape)\n",
    "df.drop('posting_id',axis=1,inplace=True)\n",
    "print('Shape after dropping: ',df.shape)"
   ]
  },
  {
   "cell_type": "markdown",
   "metadata": {},
   "source": [
    "\n",
    "\n",
    "Finding correlation between invoice_id and doc_id"
   ]
  },
  {
   "cell_type": "code",
   "execution_count": 22,
   "metadata": {},
   "outputs": [
    {
     "name": "stdout",
     "output_type": "stream",
     "text": [
      "0.9782959565902092\n"
     ]
    }
   ],
   "source": [
    "col1 = df['invoice_id']\n",
    "col2 = df['doc_id']\n",
    "correl=col1.corr(col2)\n",
    "print(correl)"
   ]
  },
  {
   "cell_type": "markdown",
   "metadata": {},
   "source": [
    "This is almost 1 so we can use only 1"
   ]
  },
  {
   "cell_type": "code",
   "execution_count": 23,
   "metadata": {},
   "outputs": [
    {
     "data": {
      "image/png": "[encoded data removed]",
      "text/plain": [
       "<Figure size 432x288 with 1 Axes>"
      ]
     },
     "metadata": {},
     "output_type": "display_data"
    }
   ],
   "source": [
    "from matplotlib import style\n",
    "style.use('ggplot')\n",
    "x=df['doc_id']\n",
    "y=df['invoice_id']\n",
    "plt.plot(x, y, linewidth=0.5, color='b')\n",
    "plt.xlabel('doc_id')\n",
    "plt.ylabel('invoice_id')\n",
    "plt.grid(True,color='g')\n",
    "plt.show()"
   ]
  },
  {
   "cell_type": "markdown",
   "metadata": {},
   "source": [
    "The line graph between invoice_id and doc_id has gradient almost 1. "
   ]
  },
  {
   "cell_type": "code",
   "execution_count": null,
   "metadata": {},
   "outputs": [],
   "source": [
    "#finding count of null values in invoice_id\n",
    "print(df['invoice_id'].isnull().sum())\n",
    "print(df['doc_id'].isnull().sum())"
   ]
  },
  {
   "cell_type": "markdown",
   "metadata": {},
   "source": [
    "Alhough, now the null count is coming as 0, initially, we did some modal processing on invoice_id. So, we can drop invoide_id for more accuracy and authenticity. "
   ]
  },
  {
   "cell_type": "code",
   "execution_count": null,
   "metadata": {},
   "outputs": [],
   "source": [
    "#since invoice_id has null values so we can drop invoice_id\n",
    "print('Shape before dropping: ',df.shape)\n",
    "df.drop('invoice_id',axis=1,inplace=True)\n",
    "print('Shape after dropping: ',df.shape)"
   ]
  },
  {
   "cell_type": "markdown",
   "metadata": {},
   "source": [
    "To check if isopen and clear_date are inter-related"
   ]
  },
  {
   "cell_type": "code",
   "execution_count": null,
   "metadata": {},
   "outputs": [],
   "source": [
    "c=0\n",
    "for i in df['isOpen']:\n",
    "    if (i==1):\n",
    "        c+=1\n",
    "if(c==df['clear_date'].isnull().sum()):\n",
    "    print('Both are inter-related')\n",
    "else:\n",
    "    print('Both are not inter-raleted')"
   ]
  },
  {
   "cell_type": "markdown",
   "metadata": {},
   "source": [
    "Now we can drop isOpen()"
   ]
  },
  {
   "cell_type": "code",
   "execution_count": null,
   "metadata": {},
   "outputs": [],
   "source": [
    "#So here we can drop isOpen\n",
    "print('Shape before dropping: ',df.shape)\n",
    "df.drop('isOpen',axis=1,inplace=True)\n",
    "print('Shape after dropping: ',df.shape)"
   ]
  },
  {
   "cell_type": "code",
   "execution_count": null,
   "metadata": {},
   "outputs": [],
   "source": [
    "df.nunique()"
   ]
  },
  {
   "cell_type": "markdown",
   "metadata": {},
   "source": [
    "Since area_business is always null we can drop it"
   ]
  },
  {
   "cell_type": "code",
   "execution_count": null,
   "metadata": {},
   "outputs": [],
   "source": [
    "print('Shape before dropping: ',df.shape)\n",
    "df=df.drop('area_business',axis=1)#dropping 'area_business'\n",
    "print('Shape after dropping: ',df.shape)"
   ]
  },
  {
   "cell_type": "markdown",
   "metadata": {},
   "source": [
    "# Splitting the dataset based on Null clear_date"
   ]
  },
  {
   "cell_type": "code",
   "execution_count": null,
   "metadata": {},
   "outputs": [],
   "source": [
    "df['clear_date'].isnull().sum()"
   ]
  },
  {
   "cell_type": "code",
   "execution_count": null,
   "metadata": {},
   "outputs": [],
   "source": [
    "#initial split between dataset based on availability of clear_date\n",
    "X_predict=df[df['clear_date'].isnull()==True].copy() #clear_date not available\n",
    "X_train_main=df[df['clear_date'].isnull()==False].copy()#clear_date available"
   ]
  },
  {
   "cell_type": "code",
   "execution_count": null,
   "metadata": {},
   "outputs": [],
   "source": [
    "(X_predict.shape,X_train_main.shape)"
   ]
  },
  {
   "cell_type": "markdown",
   "metadata": {},
   "source": [
    "# Now we'll check duplicate/constants on X_train_main"
   ]
  },
  {
   "cell_type": "code",
   "execution_count": null,
   "metadata": {},
   "outputs": [],
   "source": [
    "X_train_main.nunique()"
   ]
  },
  {
   "cell_type": "code",
   "execution_count": null,
   "metadata": {},
   "outputs": [],
   "source": [
    "X_train_main.info()"
   ]
  },
  {
   "cell_type": "markdown",
   "metadata": {},
   "source": [
    "# name_customer has more unique values compared to cust_number.\n",
    "So we can keep name_customer and drop cust_number"
   ]
  },
  {
   "cell_type": "code",
   "execution_count": null,
   "metadata": {},
   "outputs": [],
   "source": [
    "print('Shape before dropping: ',X_train_main.shape)\n",
    "X_train_main.drop('cust_number',axis=1,inplace=True)\n",
    "print('Shape after dropping: ',X_train_main.shape)"
   ]
  },
  {
   "cell_type": "code",
   "execution_count": null,
   "metadata": {},
   "outputs": [],
   "source": [
    "X_train_main.name_customer.value_counts().head(20)"
   ]
  },
  {
   "cell_type": "markdown",
   "metadata": {},
   "source": [
    "From here we can conclude that we can keep top 11 and rest all as others"
   ]
  },
  {
   "cell_type": "code",
   "execution_count": null,
   "metadata": {},
   "outputs": [],
   "source": [
    "X_train_main['name_customer'] = np.where(~ X_train_main['name_customer'].isin(['WAL-MAR corp',\n",
    "                                        'WAL-MAR llc',\n",
    "                                        'WAL-MAR corporation',\n",
    "                                        'WAL-MAR foundation',\n",
    "                                        'WAL-MAR associates',\n",
    "                                        'WAL-MAR trust',\n",
    "                                        'WAL-MAR us',\n",
    "                                        'WAL-MAR co',\n",
    "                                        'WAL-MAR',\n",
    "                                        'WAL-MAR systems',\n",
    "                                        'WAL-MAR in']),'Other',X_train_main['name_customer'])"
   ]
  },
  {
   "cell_type": "code",
   "execution_count": null,
   "metadata": {},
   "outputs": [],
   "source": [
    "X_train_main.name_customer.value_counts().head(20)"
   ]
  },
  {
   "cell_type": "markdown",
   "metadata": {},
   "source": [
    "## Check for cust_payment_terms"
   ]
  },
  {
   "cell_type": "code",
   "execution_count": null,
   "metadata": {},
   "outputs": [],
   "source": [
    "X_train_main.cust_payment_terms.value_counts().head(10)"
   ]
  },
  {
   "cell_type": "markdown",
   "metadata": {},
   "source": [
    "From here we can keep top 5 and group rest as other_terms"
   ]
  },
  {
   "cell_type": "code",
   "execution_count": null,
   "metadata": {},
   "outputs": [],
   "source": [
    "X_train_main['cust_payment_terms'] = np.where(~ X_train_main['cust_payment_terms'].isin(['NAA8',\n",
    "                                        'NAH4',\n",
    "                                        'CA10',\n",
    "                                        'NAC6',\n",
    "                                        'NAM4']),'other_terms',X_train_main['cust_payment_terms'])"
   ]
  },
  {
   "cell_type": "code",
   "execution_count": null,
   "metadata": {},
   "outputs": [],
   "source": [
    "X_train_main.cust_payment_terms.value_counts().head(20)"
   ]
  },
  {
   "cell_type": "markdown",
   "metadata": {},
   "source": [
    "# Now I will calculate delay for the X_train_main set\n",
    "\n",
    "Delay will act as the target value in the model\n",
    "\n",
    "Delay = clear_date - due_date"
   ]
  },
  {
   "cell_type": "code",
   "execution_count": null,
   "metadata": {},
   "outputs": [],
   "source": [
    "X_train_main['delay']=X_train_main['clear_date'] - X_train_main['due_in_date']"
   ]
  },
  {
   "cell_type": "code",
   "execution_count": null,
   "metadata": {},
   "outputs": [],
   "source": [
    "X_train_main['delay'].dtypes"
   ]
  },
  {
   "cell_type": "code",
   "execution_count": null,
   "metadata": {},
   "outputs": [],
   "source": [
    "X_train_main['delay']=X_train_main['delay'].dt.days\n",
    "X_train_main['delay'].dtypes"
   ]
  },
  {
   "cell_type": "code",
   "execution_count": null,
   "metadata": {},
   "outputs": [],
   "source": [
    "X_train_main.info()"
   ]
  },
  {
   "cell_type": "markdown",
   "metadata": {},
   "source": [
    "## Label-encoding for document type"
   ]
  },
  {
   "cell_type": "markdown",
   "metadata": {},
   "source": [
    "this is performed before spliting because after splitting some labels are missed from some dataframes"
   ]
  },
  {
   "cell_type": "code",
   "execution_count": null,
   "metadata": {},
   "outputs": [],
   "source": [
    "from sklearn.preprocessing import LabelEncoder"
   ]
  },
  {
   "cell_type": "code",
   "execution_count": null,
   "metadata": {},
   "outputs": [],
   "source": [
    "doc_type_encode = LabelEncoder()\n",
    "doc_type_encode.fit(X_train_main['document type'])\n",
    "X_train_main['document_type_encoded'] = doc_type_encode.transform(X_train_main['document type'])"
   ]
  },
  {
   "cell_type": "code",
   "execution_count": null,
   "metadata": {},
   "outputs": [],
   "source": [
    "X_train_main.drop('document type',inplace=True,axis=1)"
   ]
  },
  {
   "cell_type": "markdown",
   "metadata": {},
   "source": [
    "## Now, we can remove clear_date & due_in_date from both X_predict and X_train_main because this is the final value we need to predict"
   ]
  },
  {
   "cell_type": "code",
   "execution_count": null,
   "metadata": {},
   "outputs": [],
   "source": [
    "X_predict.drop('clear_date',inplace=True, axis=1)\n",
    "X_train_main.drop('clear_date',inplace=True, axis=1)"
   ]
  },
  {
   "cell_type": "markdown",
   "metadata": {},
   "source": [
    "# Split into train-test-validate"
   ]
  },
  {
   "cell_type": "code",
   "execution_count": null,
   "metadata": {},
   "outputs": [],
   "source": [
    "X=X_train_main.drop(['delay'],axis=1)"
   ]
  },
  {
   "cell_type": "code",
   "execution_count": null,
   "metadata": {},
   "outputs": [],
   "source": [
    "y=X_train_main['delay']"
   ]
  },
  {
   "cell_type": "code",
   "execution_count": null,
   "metadata": {},
   "outputs": [],
   "source": [
    "X_train, X_test_i, y_train, y_test_i = train_test_split(X, y, test_size=.30,shuffle=False,random_state=0)\n",
    "#shuffle is given as False because we want old data for training and relatively newer data for testing"
   ]
  },
  {
   "cell_type": "code",
   "execution_count": null,
   "metadata": {},
   "outputs": [],
   "source": [
    "(X_train.shape, X_test_i.shape, y_train.shape, y_test_i.shape)"
   ]
  },
  {
   "cell_type": "code",
   "execution_count": null,
   "metadata": {},
   "outputs": [],
   "source": [
    "X_val, X_test, y_val, y_test = train_test_split(X_test_i, y_test_i, test_size=.50,shuffle=False,random_state=0)\n",
    "#shuffle is given as False because we want old data for training and relatively newer data for testing"
   ]
  },
  {
   "cell_type": "code",
   "execution_count": null,
   "metadata": {},
   "outputs": [],
   "source": [
    "#from global train data\n",
    "#70% train data\n",
    "#30% test_i data which is further splitted to test and validate in 50%\n",
    "(X_val.shape, X_test.shape, y_val.shape, y_test.shape)"
   ]
  },
  {
   "cell_type": "markdown",
   "metadata": {},
   "source": [
    "# Outlier detection and EDA on train dataset"
   ]
  },
  {
   "cell_type": "code",
   "execution_count": null,
   "metadata": {},
   "outputs": [],
   "source": [
    "#distribution graph of delay\n",
    "sns.distplot(y_train)"
   ]
  },
  {
   "cell_type": "markdown",
   "metadata": {},
   "source": [
    "The graph is mostly normal skewed with more stretched on right side. So, it can also be called right-skewed"
   ]
  },
  {
   "cell_type": "code",
   "execution_count": null,
   "metadata": {},
   "outputs": [],
   "source": [
    "sns.scatterplot(data=X_train.merge(y_train,on=X_train.index), x=\"posting_date\", y=\"delay\")"
   ]
  },
  {
   "cell_type": "code",
   "execution_count": null,
   "metadata": {},
   "outputs": [],
   "source": [
    "sns.scatterplot(data=X_train.merge(y_train,on=X_train.index), x=\"document_create_date.1\", y=\"delay\")"
   ]
  },
  {
   "cell_type": "markdown",
   "metadata": {},
   "source": [
    "SO we can find out that there is some outliers in delay"
   ]
  },
  {
   "cell_type": "markdown",
   "metadata": {},
   "source": [
    "I will be using standard deviation method to remove the outliers.\n",
    "\n",
    "I will set upper and lower limit and then cap the outliers."
   ]
  },
  {
   "cell_type": "code",
   "execution_count": null,
   "metadata": {},
   "outputs": [],
   "source": [
    "factor = 3\n",
    "upper_lim=y_train.mean() + (y_train.std()*factor)\n",
    "lower_lim=y_train.mean() - (y_train.std()*factor)\n",
    "print(upper_lim)\n",
    "print(lower_lim)\n",
    "\n",
    "#Now we'll find the outliers"
   ]
  },
  {
   "cell_type": "code",
   "execution_count": null,
   "metadata": {},
   "outputs": [],
   "source": [
    "y_train.loc[(y_train>upper_lim)]=upper_lim\n",
    "y_train.loc[(y_train<lower_lim)]=lower_lim"
   ]
  },
  {
   "cell_type": "markdown",
   "metadata": {},
   "source": [
    "Again we will draw the same 3 graphs"
   ]
  },
  {
   "cell_type": "code",
   "execution_count": null,
   "metadata": {},
   "outputs": [],
   "source": [
    "sns.distplot(y_train)"
   ]
  },
  {
   "cell_type": "markdown",
   "metadata": {},
   "source": [
    "Now, we can see that the data has become more normalized"
   ]
  },
  {
   "cell_type": "code",
   "execution_count": null,
   "metadata": {},
   "outputs": [],
   "source": [
    "sns.scatterplot(data=X_train.merge(y_train,on=X_train.index), x=\"document_create_date.1\", y=\"delay\")"
   ]
  },
  {
   "cell_type": "code",
   "execution_count": null,
   "metadata": {},
   "outputs": [],
   "source": [
    "sns.scatterplot(data=X_train.merge(y_train,on=X_train.index), x=\"posting_date\", y=\"delay\")"
   ]
  },
  {
   "cell_type": "markdown",
   "metadata": {},
   "source": [
    "## Plot for categorical data"
   ]
  },
  {
   "cell_type": "code",
   "execution_count": null,
   "metadata": {},
   "outputs": [],
   "source": [
    "# graph for business_code\n",
    "sns.catplot(x=\"business_code\", y=\"delay\", kind=\"bar\", palette=\"ch:.25\", data=X_train.merge(y_train,on=X_train.index))"
   ]
  },
  {
   "cell_type": "code",
   "execution_count": null,
   "metadata": {},
   "outputs": [],
   "source": [
    "# graph for customer_name\n",
    "sns.catplot(x=\"name_customer\", y=\"delay\", kind=\"bar\", palette=\"ch:.25\", data=X_train.merge(y_train,on=X_train.index))"
   ]
  },
  {
   "cell_type": "markdown",
   "metadata": {},
   "source": [
    "## Plot for non-categorical data"
   ]
  },
  {
   "cell_type": "code",
   "execution_count": null,
   "metadata": {},
   "outputs": [],
   "source": [
    "# style.use('ggplot')\n",
    "x1=X_train.merge(y_train,on=X_train.index)['document_create_date']\n",
    "y1=X_train.merge(y_train,on=X_train.index)['delay']\n",
    "\n",
    "x2=X_train.merge(y_train,on=X_train.index)['document_create_date.1']\n",
    "y2=X_train.merge(y_train,on=X_train.index)['delay']\n",
    "\n",
    "plt.scatter(x1, y1, label='l1', color='r',s=2) #l1 stands for line one which is for document_create_date\n",
    "plt.scatter(x2, y2, label='l2', color='g',s=2) #l2 stands for line two which is for document_create_date.1\n",
    "plt.title('Comparison')\n",
    "plt.ylabel('Delay')\n",
    "plt.xlabel('Date')\n",
    "plt.grid(True, color='k')\n",
    "plt.show()"
   ]
  },
  {
   "cell_type": "markdown",
   "metadata": {},
   "source": [
    "# Feature Engineering"
   ]
  },
  {
   "cell_type": "markdown",
   "metadata": {},
   "source": [
    "This will be done for X_test and will be mapped with X_train and X_val"
   ]
  },
  {
   "cell_type": "markdown",
   "metadata": {},
   "source": [
    "Now, for fitting the features in our model we should have all the features in int or float format"
   ]
  },
  {
   "cell_type": "code",
   "execution_count": null,
   "metadata": {},
   "outputs": [],
   "source": [
    "X_train.info()"
   ]
  },
  {
   "cell_type": "code",
   "execution_count": null,
   "metadata": {},
   "outputs": [],
   "source": [
    "X_train.nunique()"
   ]
  },
  {
   "cell_type": "markdown",
   "metadata": {},
   "source": [
    "## Drop business year as it is constant"
   ]
  },
  {
   "cell_type": "code",
   "execution_count": null,
   "metadata": {},
   "outputs": [],
   "source": [
    "#business_year has unique values. So we, can drop it\n",
    "X_train.drop('buisness_year',inplace=True,axis=1)\n",
    "X_test.drop('buisness_year',inplace=True,axis=1)\n",
    "X_val.drop('buisness_year',inplace=True,axis=1)"
   ]
  },
  {
   "cell_type": "markdown",
   "metadata": {},
   "source": [
    "## Label encoding for business_code"
   ]
  },
  {
   "cell_type": "code",
   "execution_count": null,
   "metadata": {},
   "outputs": [],
   "source": [
    "#Now we can do label encoding for business_code\n",
    "from sklearn.preprocessing import LabelEncoder\n",
    "\n",
    "business_code_encode = LabelEncoder()\n",
    "\n",
    "business_code_encode.fit(X_train['business_code'])\n",
    "    \n",
    "X_train['business_code_enc'] = business_code_encode.transform(X_train['business_code'])"
   ]
  },
  {
   "cell_type": "code",
   "execution_count": null,
   "metadata": {},
   "outputs": [],
   "source": [
    "#Mapping with test and validate\n",
    "X_val['business_code_enc'] = business_code_encode.transform(X_val['business_code'])\n",
    "X_test['business_code_enc'] = business_code_encode.transform(X_test['business_code'])"
   ]
  },
  {
   "cell_type": "code",
   "execution_count": null,
   "metadata": {},
   "outputs": [],
   "source": [
    "X_train.drop('business_code',inplace=True,axis=1)\n",
    "X_test.drop('business_code',inplace=True,axis=1)\n",
    "X_val.drop('business_code',inplace=True,axis=1)"
   ]
  },
  {
   "cell_type": "code",
   "execution_count": null,
   "metadata": {},
   "outputs": [],
   "source": [
    "X_train.nunique()"
   ]
  },
  {
   "cell_type": "markdown",
   "metadata": {},
   "source": [
    "## One-hot encoding for name_customer"
   ]
  },
  {
   "cell_type": "code",
   "execution_count": null,
   "metadata": {},
   "outputs": [],
   "source": [
    "#Now we can do one-hot encoding for name_customer\n",
    "one_hot = pd.get_dummies(X_train['name_customer'])"
   ]
  },
  {
   "cell_type": "code",
   "execution_count": null,
   "metadata": {},
   "outputs": [],
   "source": [
    "# Join the encoded df\n",
    "X_train = X_train.join(one_hot)\n",
    "X_train"
   ]
  },
  {
   "cell_type": "code",
   "execution_count": null,
   "metadata": {},
   "outputs": [],
   "source": [
    "X_train.drop('name_customer',axis = 1,inplace=True)\n",
    "X_train"
   ]
  },
  {
   "cell_type": "code",
   "execution_count": null,
   "metadata": {},
   "outputs": [],
   "source": [
    "#now same one hot encoding is performed in validation and test set\n",
    "one_hot_val = pd.get_dummies(X_val['name_customer'])\n",
    "one_hot_test = pd.get_dummies(X_test['name_customer'])"
   ]
  },
  {
   "cell_type": "code",
   "execution_count": null,
   "metadata": {},
   "outputs": [],
   "source": [
    "# Join the encoded dataframe\n",
    "X_val = X_val.join(one_hot_val)\n",
    "X_val.head()"
   ]
  },
  {
   "cell_type": "code",
   "execution_count": null,
   "metadata": {},
   "outputs": [],
   "source": [
    "# Join the encoded dataframe\n",
    "X_test = X_test.join(one_hot_test)\n",
    "X_test.head()"
   ]
  },
  {
   "cell_type": "code",
   "execution_count": null,
   "metadata": {},
   "outputs": [],
   "source": [
    "X_test.drop('name_customer',axis = 1,inplace=True)\n",
    "X_test.info()"
   ]
  },
  {
   "cell_type": "code",
   "execution_count": null,
   "metadata": {},
   "outputs": [],
   "source": [
    "X_val.drop('name_customer',axis = 1,inplace=True)\n",
    "X_val.info()"
   ]
  },
  {
   "cell_type": "markdown",
   "metadata": {},
   "source": [
    "## Label encoding for cust_payment_terms"
   ]
  },
  {
   "cell_type": "code",
   "execution_count": null,
   "metadata": {},
   "outputs": [],
   "source": [
    "cust_payment_terms_encode = LabelEncoder()\n",
    "cust_payment_terms_encode.fit(X_train['cust_payment_terms'])\n",
    "X_train['cust_payment_terms_encoded'] = cust_payment_terms_encode.transform(X_train['cust_payment_terms'])"
   ]
  },
  {
   "cell_type": "code",
   "execution_count": null,
   "metadata": {},
   "outputs": [],
   "source": [
    "X_train.drop('cust_payment_terms',inplace=True,axis=1)"
   ]
  },
  {
   "cell_type": "code",
   "execution_count": null,
   "metadata": {},
   "outputs": [],
   "source": [
    "#mapping the same with test and validation\n",
    "X_test['cust_payment_terms_encoded'] = cust_payment_terms_encode.transform(X_test['cust_payment_terms'])\n",
    "X_val['cust_payment_terms_encoded'] = cust_payment_terms_encode.transform(X_val['cust_payment_terms'])"
   ]
  },
  {
   "cell_type": "code",
   "execution_count": null,
   "metadata": {},
   "outputs": [],
   "source": [
    "X_test.drop('cust_payment_terms',inplace=True,axis=1)\n",
    "X_val.drop('cust_payment_terms',inplace=True,axis=1)"
   ]
  },
  {
   "cell_type": "code",
   "execution_count": null,
   "metadata": {},
   "outputs": [],
   "source": [
    "X_train.info()"
   ]
  },
  {
   "cell_type": "markdown",
   "metadata": {},
   "source": [
    "# Splitting dates"
   ]
  },
  {
   "cell_type": "markdown",
   "metadata": {},
   "source": [
    "## Splitting posting_date"
   ]
  },
  {
   "cell_type": "code",
   "execution_count": null,
   "metadata": {},
   "outputs": [],
   "source": [
    "# posting_date\n",
    "X_train['posting_date_year'] = X_train['posting_date'].dt.year\n",
    "X_test['posting_date_year'] = X_test['posting_date'].dt.year\n",
    "X_val['posting_date_year'] = X_val['posting_date'].dt.year\n",
    "\n",
    "X_train['posting_date_month'] = X_train['posting_date'].dt.month\n",
    "X_test['posting_date_month'] = X_test['posting_date'].dt.month\n",
    "X_val['posting_date_month'] = X_val['posting_date'].dt.month\n",
    "\n",
    "X_train['posting_date_day'] = X_train['posting_date'].dt.day\n",
    "X_test['posting_date_day'] = X_test['posting_date'].dt.day\n",
    "X_val['posting_date_day'] = X_val['posting_date'].dt.day"
   ]
  },
  {
   "cell_type": "code",
   "execution_count": null,
   "metadata": {},
   "outputs": [],
   "source": [
    "X_train.drop('posting_date',inplace=True, axis=1)\n",
    "X_test.drop('posting_date',inplace=True, axis=1)\n",
    "X_val.drop('posting_date',inplace=True, axis=1)"
   ]
  },
  {
   "cell_type": "markdown",
   "metadata": {},
   "source": [
    "## Splitting document_create_date"
   ]
  },
  {
   "cell_type": "code",
   "execution_count": null,
   "metadata": {},
   "outputs": [],
   "source": [
    "# document_create_date\n",
    "X_train['document_create_date_year'] = X_train['document_create_date'].dt.year\n",
    "X_test['document_create_date_year'] = X_test['document_create_date'].dt.year\n",
    "X_val['document_create_date_year'] = X_val['document_create_date'].dt.year\n",
    "\n",
    "X_train['document_create_date_month'] = X_train['document_create_date'].dt.month\n",
    "X_test['document_create_date_month'] = X_test['document_create_date'].dt.month\n",
    "X_val['document_create_date_month'] = X_val['document_create_date'].dt.month\n",
    "\n",
    "X_train['document_create_date_day'] = X_train['document_create_date'].dt.day\n",
    "X_test['document_create_date_day'] = X_test['document_create_date'].dt.day\n",
    "X_val['document_create_date_day'] = X_val['document_create_date'].dt.day"
   ]
  },
  {
   "cell_type": "code",
   "execution_count": null,
   "metadata": {},
   "outputs": [],
   "source": [
    "X_train.drop('document_create_date',inplace=True, axis=1)\n",
    "X_test.drop('document_create_date',inplace=True, axis=1)\n",
    "X_val.drop('document_create_date',inplace=True, axis=1)"
   ]
  },
  {
   "cell_type": "markdown",
   "metadata": {},
   "source": [
    "## Splitting document_create_date.1"
   ]
  },
  {
   "cell_type": "code",
   "execution_count": null,
   "metadata": {},
   "outputs": [],
   "source": [
    "# document_create_date.1\n",
    "X_train['document_create_date.1_year'] = X_train['document_create_date.1'].dt.year\n",
    "X_test['document_create_date.1_year'] = X_test['document_create_date.1'].dt.year\n",
    "X_val['document_create_date.1_year'] = X_val['document_create_date.1'].dt.year\n",
    "\n",
    "X_train['document_create_date.1_month'] = X_train['document_create_date.1'].dt.month\n",
    "X_test['document_create_date.1_month'] = X_test['document_create_date.1'].dt.month\n",
    "X_val['document_create_date.1_month'] = X_val['document_create_date.1'].dt.month\n",
    "\n",
    "X_train['document_create_date.1_day'] = X_train['document_create_date.1'].dt.day\n",
    "X_test['document_create_date.1_day'] = X_test['document_create_date.1'].dt.day\n",
    "X_val['document_create_date.1_day'] = X_val['document_create_date.1'].dt.day"
   ]
  },
  {
   "cell_type": "code",
   "execution_count": null,
   "metadata": {},
   "outputs": [],
   "source": [
    "X_train.drop('document_create_date.1',inplace=True, axis=1)\n",
    "X_test.drop('document_create_date.1',inplace=True, axis=1)\n",
    "X_val.drop('document_create_date.1',inplace=True, axis=1)"
   ]
  },
  {
   "cell_type": "markdown",
   "metadata": {},
   "source": [
    "## Splitting due_in_date"
   ]
  },
  {
   "cell_type": "code",
   "execution_count": null,
   "metadata": {},
   "outputs": [],
   "source": [
    "# due_in_date\n",
    "X_train['due_in_date_year'] = X_train['due_in_date'].dt.year\n",
    "X_test['due_in_date_year'] = X_test['due_in_date'].dt.year\n",
    "X_val['due_in_date_year'] = X_val['due_in_date'].dt.year\n",
    "\n",
    "X_train['due_in_date_month'] = X_train['due_in_date'].dt.month\n",
    "X_test['due_in_date_month'] = X_test['due_in_date'].dt.month\n",
    "X_val['due_in_date_month'] = X_val['due_in_date'].dt.month\n",
    "\n",
    "X_train['due_in_date_day'] = X_train['due_in_date'].dt.day\n",
    "X_test['due_in_date_day'] = X_test['due_in_date'].dt.day\n",
    "X_val['due_in_date_day'] = X_val['due_in_date'].dt.day"
   ]
  },
  {
   "cell_type": "code",
   "execution_count": null,
   "metadata": {},
   "outputs": [],
   "source": [
    "X_train.drop('due_in_date',inplace=True, axis=1)\n",
    "X_test.drop('due_in_date',inplace=True, axis=1)\n",
    "X_val.drop('due_in_date',inplace=True, axis=1)"
   ]
  },
  {
   "cell_type": "markdown",
   "metadata": {},
   "source": [
    "## Splitting baseline_create_date "
   ]
  },
  {
   "cell_type": "code",
   "execution_count": null,
   "metadata": {},
   "outputs": [],
   "source": [
    "# baseline_create_date \n",
    "X_train['baseline_create_date_year'] = X_train['baseline_create_date'].dt.year\n",
    "X_test['baseline_create_date_year'] = X_test['baseline_create_date'].dt.year\n",
    "X_val['baseline_create_date_year'] = X_val['baseline_create_date'].dt.year\n",
    "\n",
    "X_train['baseline_create_date_month'] = X_train['baseline_create_date'].dt.month\n",
    "X_test['baseline_create_date_month'] = X_test['baseline_create_date'].dt.month\n",
    "X_val['baseline_create_date_month'] = X_val['baseline_create_date'].dt.month\n",
    "\n",
    "X_train['baseline_create_date_day'] = X_train['baseline_create_date'].dt.day\n",
    "X_test['baseline_create_date_day'] = X_test['baseline_create_date'].dt.day\n",
    "X_val['baseline_create_date_day'] = X_val['baseline_create_date'].dt.day"
   ]
  },
  {
   "cell_type": "code",
   "execution_count": null,
   "metadata": {},
   "outputs": [],
   "source": [
    "X_train.drop('baseline_create_date',inplace=True, axis=1)\n",
    "X_test.drop('baseline_create_date',inplace=True, axis=1)\n",
    "X_val.drop('baseline_create_date',inplace=True, axis=1)"
   ]
  },
  {
   "cell_type": "markdown",
   "metadata": {},
   "source": [
    "Now all non-integer or non-float values are removed"
   ]
  },
  {
   "cell_type": "code",
   "execution_count": null,
   "metadata": {},
   "outputs": [],
   "source": [
    "X_train.info()"
   ]
  },
  {
   "cell_type": "code",
   "execution_count": null,
   "metadata": {},
   "outputs": [],
   "source": [
    "X_train.nunique()"
   ]
  },
  {
   "cell_type": "markdown",
   "metadata": {},
   "source": [
    "Now all attributes are converted to int/float"
   ]
  },
  {
   "cell_type": "markdown",
   "metadata": {},
   "source": [
    "# Feature Selection"
   ]
  },
  {
   "cell_type": "markdown",
   "metadata": {},
   "source": [
    "## Heat map for Correlation matrix"
   ]
  },
  {
   "cell_type": "code",
   "execution_count": null,
   "metadata": {},
   "outputs": [],
   "source": [
    "corr_matrix = X_train.merge(y_train , on = X_train.index).corr()\n",
    "plt.subplots(figsize=(12,12))\n",
    "sns.heatmap(corr_matrix, vmax=0.9, square=True)"
   ]
  },
  {
   "cell_type": "markdown",
   "metadata": {},
   "source": [
    "Now let's plot with value"
   ]
  },
  {
   "cell_type": "code",
   "execution_count": null,
   "metadata": {},
   "outputs": [],
   "source": [
    "colormap = plt.cm.RdBu\n",
    "plt.figure(figsize=(17,17))\n",
    "plt.title('Correlation matrix for features', y=1.05, size=15)\n",
    "sns.heatmap(X_train.merge(y_train , on = X_train.index ).corr(),linewidths=0.1,vmax=1.0, square=True, cmap=colormap, linecolor='white', annot=True)"
   ]
  },
  {
   "cell_type": "markdown",
   "metadata": {},
   "source": [
    "The diagonal is marked as 1 because the correlation of same element is always 1"
   ]
  },
  {
   "cell_type": "markdown",
   "metadata": {},
   "source": [
    "From this matrix and after all the feature engineering the features selected are:"
   ]
  },
  {
   "cell_type": "code",
   "execution_count": null,
   "metadata": {},
   "outputs": [],
   "source": [
    "X_train.nunique()"
   ]
  },
  {
   "cell_type": "code",
   "execution_count": null,
   "metadata": {},
   "outputs": [],
   "source": [
    "## Variance Threshold\n",
    "from sklearn.feature_selection import VarianceThreshold\n",
    "vt = VarianceThreshold(0.8)\n",
    "vt.fit(X_train)"
   ]
  },
  {
   "cell_type": "markdown",
   "metadata": {},
   "source": [
    "# Modelling"
   ]
  },
  {
   "cell_type": "markdown",
   "metadata": {},
   "source": [
    "## Base model"
   ]
  },
  {
   "cell_type": "code",
   "execution_count": null,
   "metadata": {},
   "outputs": [],
   "source": [
    "from sklearn.linear_model import LinearRegression\n",
    "model_lr = LinearRegression()\n",
    "model_lr.fit(X_train, y_train)"
   ]
  },
  {
   "cell_type": "code",
   "execution_count": null,
   "metadata": {},
   "outputs": [],
   "source": [
    "y_pred = model_lr.predict(X_val)"
   ]
  },
  {
   "cell_type": "code",
   "execution_count": null,
   "metadata": {},
   "outputs": [],
   "source": [
    "from sklearn.metrics import mean_squared_error\n",
    "mse_base=mean_squared_error(y_val, y_pred)\n",
    "mse_base"
   ]
  },
  {
   "cell_type": "code",
   "execution_count": null,
   "metadata": {},
   "outputs": [],
   "source": [
    "rmse_base=np.sqrt(mse_base)\n",
    "rmse_base"
   ]
  },
  {
   "cell_type": "code",
   "execution_count": null,
   "metadata": {},
   "outputs": [],
   "source": [
    "base_pred = pd.DataFrame(zip(y_val , y_pred),columns=['Actual','Predicted'])\n",
    "base_pred "
   ]
  },
  {
   "cell_type": "code",
   "execution_count": null,
   "metadata": {},
   "outputs": [],
   "source": [
    "(abs(base_pred.Predicted-base_pred.Actual)/base_pred.Actual).mean()"
   ]
  },
  {
   "cell_type": "markdown",
   "metadata": {},
   "source": [
    "The mean error is coming as inf because of the zero values of a.Actual.\n",
    "\n",
    "So, drop the rows with Actual = 0 from dataframe a "
   ]
  },
  {
   "cell_type": "code",
   "execution_count": null,
   "metadata": {},
   "outputs": [],
   "source": [
    "base_pred.drop(base_pred[base_pred['Actual'] == 0].index, inplace = True,axis=0)"
   ]
  },
  {
   "cell_type": "code",
   "execution_count": null,
   "metadata": {},
   "outputs": [],
   "source": [
    "(abs(base_pred.Predicted-base_pred.Actual)/base_pred.Actual).mean()"
   ]
  },
  {
   "cell_type": "markdown",
   "metadata": {},
   "source": [
    "# Tree based model"
   ]
  },
  {
   "cell_type": "code",
   "execution_count": null,
   "metadata": {},
   "outputs": [],
   "source": [
    "from sklearn.tree import DecisionTreeRegressor\n",
    "dtr = DecisionTreeRegressor(random_state=0 , max_depth=4)"
   ]
  },
  {
   "cell_type": "code",
   "execution_count": null,
   "metadata": {},
   "outputs": [],
   "source": [
    "dtr.fit(X_train, y_train)"
   ]
  },
  {
   "cell_type": "code",
   "execution_count": null,
   "metadata": {},
   "outputs": [],
   "source": [
    "y_pred_dtr = dtr.predict(X_val)"
   ]
  },
  {
   "cell_type": "code",
   "execution_count": null,
   "metadata": {},
   "outputs": [],
   "source": [
    "mse_tree=mean_squared_error(y_val, y_pred_dtr)\n",
    "mse_tree"
   ]
  },
  {
   "cell_type": "code",
   "execution_count": null,
   "metadata": {},
   "outputs": [],
   "source": [
    "rmse_tree = np.sqrt(mse_tree)\n",
    "rmse_tree"
   ]
  },
  {
   "cell_type": "code",
   "execution_count": null,
   "metadata": {},
   "outputs": [],
   "source": [
    "tree_pred=pd.DataFrame(zip(y_val , y_pred_dtr),columns=['Actual','Predicted'])\n",
    "tree_pred"
   ]
  },
  {
   "cell_type": "code",
   "execution_count": null,
   "metadata": {},
   "outputs": [],
   "source": [
    "tree_pred.drop(tree_pred[tree_pred['Actual'] == 0].index, inplace = True,axis=0)"
   ]
  },
  {
   "cell_type": "code",
   "execution_count": null,
   "metadata": {},
   "outputs": [],
   "source": [
    "(abs(tree_pred.Predicted-tree_pred.Actual)/tree_pred.Actual).mean()"
   ]
  },
  {
   "cell_type": "markdown",
   "metadata": {},
   "source": [
    "Comparing both the models- Linear regression gives better result and more accuracy"
   ]
  },
  {
   "cell_type": "markdown",
   "metadata": {},
   "source": [
    "# Hyper-parameter tuning"
   ]
  },
  {
   "cell_type": "markdown",
   "metadata": {},
   "source": [
    "Combine the train and the validation set to fit into the model and then use the test to predict"
   ]
  },
  {
   "cell_type": "code",
   "execution_count": null,
   "metadata": {},
   "outputs": [],
   "source": [
    "frames=[X_train, X_val]\n",
    "X_train_hpt = pd.concat(frames)"
   ]
  },
  {
   "cell_type": "code",
   "execution_count": null,
   "metadata": {},
   "outputs": [],
   "source": [
    "X_train_hpt.shape"
   ]
  },
  {
   "cell_type": "code",
   "execution_count": null,
   "metadata": {},
   "outputs": [],
   "source": [
    "y_frames=[y_train, y_val]\n",
    "y_train_hpt = pd.concat(y_frames)"
   ]
  },
  {
   "cell_type": "code",
   "execution_count": null,
   "metadata": {},
   "outputs": [],
   "source": [
    "y_train_hpt.shape"
   ]
  },
  {
   "cell_type": "markdown",
   "metadata": {},
   "source": [
    "## Linear regression for hyper-parameter tuning"
   ]
  },
  {
   "cell_type": "code",
   "execution_count": null,
   "metadata": {},
   "outputs": [],
   "source": [
    "# now fit this into the model\n",
    "model_final = LinearRegression()\n",
    "model_final.fit(X_train_hpt, y_train_hpt)"
   ]
  },
  {
   "cell_type": "code",
   "execution_count": null,
   "metadata": {},
   "outputs": [],
   "source": [
    "y_predict = model_final.predict(X_test)"
   ]
  },
  {
   "cell_type": "code",
   "execution_count": null,
   "metadata": {},
   "outputs": [],
   "source": [
    "act_pred = pd.DataFrame(zip(y_test , y_predict),columns=['Actual','Predicted'])\n",
    "act_pred"
   ]
  },
  {
   "cell_type": "code",
   "execution_count": null,
   "metadata": {},
   "outputs": [],
   "source": [
    "mse_hpt=mean_squared_error(y_test, y_predict)\n",
    "mse_hpt"
   ]
  },
  {
   "cell_type": "code",
   "execution_count": null,
   "metadata": {},
   "outputs": [],
   "source": [
    "rmse_hpt= np.sqrt(mse_hpt)\n",
    "rmse_hpt"
   ]
  },
  {
   "cell_type": "code",
   "execution_count": null,
   "metadata": {},
   "outputs": [],
   "source": [
    "act_pred.drop(act_pred[act_pred['Actual'] == 0].index, inplace = True,axis=0)"
   ]
  },
  {
   "cell_type": "code",
   "execution_count": null,
   "metadata": {},
   "outputs": [],
   "source": [
    "(abs(act_pred.Predicted-act_pred.Actual)/act_pred.Actual).mean()"
   ]
  },
  {
   "cell_type": "markdown",
   "metadata": {},
   "source": [
    "## Tree-based regressor for hyper-parameter tuning"
   ]
  },
  {
   "cell_type": "code",
   "execution_count": null,
   "metadata": {},
   "outputs": [],
   "source": [
    "dtr2 = DecisionTreeRegressor(random_state=0 , max_depth=4)"
   ]
  },
  {
   "cell_type": "code",
   "execution_count": null,
   "metadata": {},
   "outputs": [],
   "source": [
    "dtr2.fit(X_train_hpt, y_train_hpt)"
   ]
  },
  {
   "cell_type": "code",
   "execution_count": null,
   "metadata": {},
   "outputs": [],
   "source": [
    "y_pred_dtr2 = dtr2.predict(X_test)"
   ]
  },
  {
   "cell_type": "code",
   "execution_count": null,
   "metadata": {},
   "outputs": [],
   "source": [
    "b2=pd.DataFrame(zip(y_test , y_pred_dtr2),columns=['Actual','Predicted'])"
   ]
  },
  {
   "cell_type": "code",
   "execution_count": null,
   "metadata": {},
   "outputs": [],
   "source": [
    "mse_tree_hpt=mean_squared_error(y_val, y_pred_dtr)\n",
    "mse_tree_hpt"
   ]
  },
  {
   "cell_type": "code",
   "execution_count": null,
   "metadata": {},
   "outputs": [],
   "source": [
    "rmse_tree_hpt=np.sqrt(mse_tree_hpt)\n",
    "rmse_tree_hpt"
   ]
  },
  {
   "cell_type": "code",
   "execution_count": null,
   "metadata": {},
   "outputs": [],
   "source": [
    "b2.drop(b2[b2['Actual'] == 0].index, inplace = True,axis=0)"
   ]
  },
  {
   "cell_type": "code",
   "execution_count": null,
   "metadata": {},
   "outputs": [],
   "source": [
    "(abs(b2.Predicted-b2.Actual)/b2.Actual).mean()"
   ]
  },
  {
   "cell_type": "markdown",
   "metadata": {},
   "source": [
    "After comparing and analysing the values of mean error, mean-squared error and root-mean-squared error we can come to the conclusion the we can use Linear regression for final prediction"
   ]
  },
  {
   "cell_type": "markdown",
   "metadata": {},
   "source": [
    "# Predicting the values"
   ]
  },
  {
   "cell_type": "code",
   "execution_count": null,
   "metadata": {},
   "outputs": [],
   "source": [
    "X_predict.shape"
   ]
  },
  {
   "cell_type": "code",
   "execution_count": null,
   "metadata": {},
   "outputs": [],
   "source": [
    "X_predict.head()"
   ]
  },
  {
   "cell_type": "code",
   "execution_count": null,
   "metadata": {},
   "outputs": [],
   "source": [
    "X_predict.isna().sum()"
   ]
  },
  {
   "cell_type": "code",
   "execution_count": null,
   "metadata": {},
   "outputs": [],
   "source": [
    "X_predict_final = X_predict"
   ]
  },
  {
   "cell_type": "markdown",
   "metadata": {},
   "source": [
    "## Mapping features with train set"
   ]
  },
  {
   "cell_type": "code",
   "execution_count": null,
   "metadata": {},
   "outputs": [],
   "source": [
    "#drop cust_number\n",
    "X_predict.drop('cust_number',inplace=True, axis=1)"
   ]
  },
  {
   "cell_type": "code",
   "execution_count": null,
   "metadata": {},
   "outputs": [],
   "source": [
    "#changing the name_customer as was done in training set\n",
    "X_predict['name_customer'] = np.where(~ X_predict['name_customer'].isin(['WAL-MAR corp',\n",
    "                                        'WAL-MAR llc',\n",
    "                                        'WAL-MAR corporation',\n",
    "                                        'WAL-MAR foundation',\n",
    "                                        'WAL-MAR associates',\n",
    "                                        'WAL-MAR trust',\n",
    "                                        'WAL-MAR us',\n",
    "                                        'WAL-MAR co',\n",
    "                                        'WAL-MAR',\n",
    "                                        'WAL-MAR systems',\n",
    "                                        'WAL-MAR in']),'Other',X_predict['name_customer'])"
   ]
  },
  {
   "cell_type": "code",
   "execution_count": null,
   "metadata": {},
   "outputs": [],
   "source": [
    "X_predict.name_customer.value_counts().head(20)"
   ]
  },
  {
   "cell_type": "code",
   "execution_count": null,
   "metadata": {},
   "outputs": [],
   "source": [
    "# changing the cust_payment_terms as was done training set\n",
    "X_predict['cust_payment_terms'] = np.where(~ X_predict['cust_payment_terms'].isin(['NAA8',\n",
    "                                        'NAH4',\n",
    "                                        'CA10',\n",
    "                                        'NAC6',\n",
    "                                        'NAM4']),'other_terms',X_predict['cust_payment_terms'])\n",
    "X_predict.cust_payment_terms.value_counts().head(20)"
   ]
  },
  {
   "cell_type": "code",
   "execution_count": null,
   "metadata": {},
   "outputs": [],
   "source": [
    "#encoding document type\n",
    "doc_type_encode_predict = LabelEncoder()\n",
    "doc_type_encode_predict.fit(X_predict['document type'])\n",
    "X_predict['document_type_encoded'] = doc_type_encode.transform(X_predict['document type'])"
   ]
  },
  {
   "cell_type": "code",
   "execution_count": null,
   "metadata": {},
   "outputs": [],
   "source": [
    "X_predict.drop('document type',inplace=True,axis=1)"
   ]
  },
  {
   "cell_type": "code",
   "execution_count": null,
   "metadata": {},
   "outputs": [],
   "source": [
    "# drop business_year\n",
    "X_predict.drop('buisness_year',inplace=True,axis=1)"
   ]
  },
  {
   "cell_type": "code",
   "execution_count": null,
   "metadata": {},
   "outputs": [],
   "source": [
    "# mapping business_code\n",
    "X_predict['business_code_enc'] = business_code_encode.transform(X_predict['business_code'])"
   ]
  },
  {
   "cell_type": "code",
   "execution_count": null,
   "metadata": {},
   "outputs": [],
   "source": [
    "#encode name_customer\n",
    "one_hot_predict = pd.get_dummies(X_predict['name_customer'])"
   ]
  },
  {
   "cell_type": "code",
   "execution_count": null,
   "metadata": {},
   "outputs": [],
   "source": [
    "# Join the encoded df\n",
    "X_predict = X_predict.join(one_hot_predict)\n",
    "X_predict"
   ]
  },
  {
   "cell_type": "code",
   "execution_count": null,
   "metadata": {},
   "outputs": [],
   "source": [
    "X_predict.drop('name_customer',axis = 1,inplace=True)"
   ]
  },
  {
   "cell_type": "code",
   "execution_count": null,
   "metadata": {},
   "outputs": [],
   "source": [
    "#mapping cust_payment_terms\n",
    "X_predict['cust_payment_terms_encoded'] = cust_payment_terms_encode.transform(X_predict['cust_payment_terms'])"
   ]
  },
  {
   "cell_type": "code",
   "execution_count": null,
   "metadata": {},
   "outputs": [],
   "source": [
    "X_predict.drop('cust_payment_terms',axis = 1,inplace=True)\n",
    "X_predict.drop('business_code',axis = 1,inplace=True)"
   ]
  },
  {
   "cell_type": "markdown",
   "metadata": {},
   "source": [
    "## splitting dates as in train set"
   ]
  },
  {
   "cell_type": "code",
   "execution_count": null,
   "metadata": {},
   "outputs": [],
   "source": [
    "# posting_date\n",
    "X_predict['posting_date_year'] = X_predict['posting_date'].dt.year\n",
    "X_predict['posting_date_month'] = X_predict['posting_date'].dt.month\n",
    "X_predict['posting_date_day'] = X_predict['posting_date'].dt.day"
   ]
  },
  {
   "cell_type": "code",
   "execution_count": null,
   "metadata": {},
   "outputs": [],
   "source": [
    "X_predict.drop('posting_date',axis = 1,inplace=True)"
   ]
  },
  {
   "cell_type": "code",
   "execution_count": null,
   "metadata": {},
   "outputs": [],
   "source": [
    "# document_create_date \n",
    "X_predict['document_create_date_year'] = X_predict['document_create_date'].dt.year\n",
    "X_predict['document_create_date_month'] = X_predict['document_create_date'].dt.month\n",
    "X_predict['document_create_date_day'] = X_predict['document_create_date'].dt.day\n",
    "\n",
    "#document_create_date.1\n",
    "X_predict['document_create_date.1_year'] = X_predict['document_create_date.1'].dt.year\n",
    "X_predict['document_create_date.1_month'] = X_predict['document_create_date.1'].dt.month\n",
    "X_predict['document_create_date.1_day'] = X_predict['document_create_date.1'].dt.day\n",
    "\n",
    "#due_in_date\n",
    "X_predict['due_in_date_year'] = X_predict['due_in_date'].dt.year\n",
    "X_predict['due_in_date_month'] = X_predict['due_in_date'].dt.month\n",
    "X_predict['due_in_date_day'] = X_predict['due_in_date'].dt.day\n",
    "\n",
    "#baseline_create_date\n",
    "X_predict['baseline_create_date_year'] = X_predict['baseline_create_date'].dt.year\n",
    "X_predict['baseline_create_date_month'] = X_predict['baseline_create_date'].dt.month\n",
    "X_predict['baseline_create_date_day'] = X_predict['baseline_create_date'].dt.day"
   ]
  },
  {
   "cell_type": "code",
   "execution_count": null,
   "metadata": {},
   "outputs": [],
   "source": [
    "X_predict.drop('document_create_date',axis = 1,inplace=True)\n",
    "X_predict.drop('document_create_date.1',axis = 1,inplace=True)\n",
    "X_predict.drop('due_in_date',axis = 1,inplace=True)\n",
    "X_predict.drop('baseline_create_date',axis = 1,inplace=True)"
   ]
  },
  {
   "cell_type": "code",
   "execution_count": null,
   "metadata": {},
   "outputs": [],
   "source": [
    "X_predict.columns"
   ]
  },
  {
   "cell_type": "code",
   "execution_count": null,
   "metadata": {},
   "outputs": [],
   "source": [
    "X_train.columns"
   ]
  },
  {
   "cell_type": "code",
   "execution_count": null,
   "metadata": {},
   "outputs": [],
   "source": [
    "final_pred= model_final.predict(X_predict)"
   ]
  },
  {
   "cell_type": "code",
   "execution_count": null,
   "metadata": {},
   "outputs": [],
   "source": [
    "final_pred = pd.Series(final_pred,name='Delay')"
   ]
  },
  {
   "cell_type": "code",
   "execution_count": null,
   "metadata": {},
   "outputs": [],
   "source": [
    "# reset the index of X_predict_final so that we can merge Delay series with it\n",
    "X_predict_final.reset_index(drop=True,inplace=True)"
   ]
  },
  {
   "cell_type": "code",
   "execution_count": null,
   "metadata": {},
   "outputs": [],
   "source": [
    "With_delay_table = X_predict_final.merge(final_pred , on = X_predict.index )\n",
    "With_delay_table"
   ]
  },
  {
   "cell_type": "code",
   "execution_count": null,
   "metadata": {},
   "outputs": [],
   "source": [
    "X_predict_final.info()"
   ]
  },
  {
   "cell_type": "code",
   "execution_count": null,
   "metadata": {},
   "outputs": [],
   "source": [
    "With_delay_table['clear_date']=With_delay_table['due_in_date']+pd.to_timedelta(With_delay_table['Delay'],unit='d')"
   ]
  },
  {
   "cell_type": "code",
   "execution_count": null,
   "metadata": {},
   "outputs": [],
   "source": [
    "With_delay_table.info()"
   ]
  },
  {
   "cell_type": "code",
   "execution_count": null,
   "metadata": {},
   "outputs": [],
   "source": [
    "With_delay_table['clear_date']"
   ]
  },
  {
   "cell_type": "code",
   "execution_count": null,
   "metadata": {},
   "outputs": [],
   "source": [
    "With_delay_table.head()"
   ]
  },
  {
   "cell_type": "code",
   "execution_count": null,
   "metadata": {},
   "outputs": [],
   "source": []
  }
 ],
 "metadata": {
  "kernelspec": {
   "display_name": "Python 3",
   "language": "python",
   "name": "python3"
  },
  "language_info": {
   "codemirror_mode": {
    "name": "ipython",
    "version": 3
   },
   "file_extension": ".py",
   "mimetype": "text/x-python",
   "name": "python",
   "nbconvert_exporter": "python",
   "pygments_lexer": "ipython3",
   "version": "3.7.4"
  }
 },
 "nbformat": 4,
 "nbformat_minor": 2
}
